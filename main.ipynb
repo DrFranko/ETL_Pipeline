{
 "cells": [
  {
   "cell_type": "code",
   "execution_count": 1,
   "metadata": {},
   "outputs": [],
   "source": [
    "from pyspark.sql import SparkSession\n",
    "from pyspark.ml import Pipeline\n",
    "from pyspark.sql.functions import mean,col,split, col, regexp_extract, when, lit\n",
    "from pyspark.ml.feature import StringIndexer\n",
    "from pyspark.ml.feature import VectorAssembler\n",
    "from pyspark.ml.feature import OneHotEncoder\n",
    "from pyspark.ml.evaluation import MulticlassClassificationEvaluator\n",
    "from pyspark.ml.feature import QuantileDiscretizer"
   ]
  },
  {
   "cell_type": "code",
   "execution_count": 3,
   "metadata": {},
   "outputs": [],
   "source": [
    "spark = SparkSession.builder.appName(\"Bank\").getOrCreate()"
   ]
  },
  {
   "cell_type": "code",
   "execution_count": 4,
   "metadata": {},
   "outputs": [],
   "source": [
    "df = spark.read.csv('bank.csv', header=True, inferSchema=True)"
   ]
  },
  {
   "cell_type": "code",
   "execution_count": 13,
   "metadata": {},
   "outputs": [
    {
     "data": {
      "text/plain": [
       "DataFrame[age: int, job: string, marital: string, education: string, default: string, balance: int, housing: string, loan: string, contact: string, day: int, month: string, duration: int, campaign: int, pdays: int, previous: int, poutcome: string, deposit: string]"
      ]
     },
     "execution_count": 13,
     "metadata": {},
     "output_type": "execute_result"
    }
   ],
   "source": [
    "df.cache()"
   ]
  },
  {
   "cell_type": "code",
   "execution_count": 14,
   "metadata": {},
   "outputs": [
    {
     "data": {
      "text/plain": [
       "True"
      ]
     },
     "execution_count": 14,
     "metadata": {},
     "output_type": "execute_result"
    }
   ],
   "source": [
    "df.is_cached"
   ]
  },
  {
   "cell_type": "code",
   "execution_count": 7,
   "metadata": {},
   "outputs": [
    {
     "name": "stdout",
     "output_type": "stream",
     "text": [
      "root\n",
      " |-- age: integer (nullable = true)\n",
      " |-- job: string (nullable = true)\n",
      " |-- marital: string (nullable = true)\n",
      " |-- education: string (nullable = true)\n",
      " |-- default: string (nullable = true)\n",
      " |-- balance: integer (nullable = true)\n",
      " |-- housing: string (nullable = true)\n",
      " |-- loan: string (nullable = true)\n",
      " |-- contact: string (nullable = true)\n",
      " |-- day: integer (nullable = true)\n",
      " |-- month: string (nullable = true)\n",
      " |-- duration: integer (nullable = true)\n",
      " |-- campaign: integer (nullable = true)\n",
      " |-- pdays: integer (nullable = true)\n",
      " |-- previous: integer (nullable = true)\n",
      " |-- poutcome: string (nullable = true)\n",
      " |-- deposit: string (nullable = true)\n",
      "\n"
     ]
    }
   ],
   "source": [
    "df.printSchema()"
   ]
  },
  {
   "cell_type": "code",
   "execution_count": 12,
   "metadata": {},
   "outputs": [
    {
     "data": {
      "text/plain": [
       "11162"
      ]
     },
     "execution_count": 12,
     "metadata": {},
     "output_type": "execute_result"
    }
   ],
   "source": [
    "df.count()"
   ]
  },
  {
   "cell_type": "code",
   "execution_count": 11,
   "metadata": {},
   "outputs": [
    {
     "data": {
      "text/plain": [
       "17"
      ]
     },
     "execution_count": 11,
     "metadata": {},
     "output_type": "execute_result"
    }
   ],
   "source": [
    "len(df.columns)"
   ]
  },
  {
   "cell_type": "code",
   "execution_count": 16,
   "metadata": {},
   "outputs": [
    {
     "name": "stdout",
     "output_type": "stream",
     "text": [
      "+---+----------+-------+---------+-------+-------+-------+----+-------+---+-----+--------+--------+-----+--------+--------+-------+-----------+---------------+-----------------+---------------+---------------+------------+---------------+----------------+-------------------+-----------------------+-------------------------+-----------------------+-----------------------+--------------------+-----------------------+------------------------+--------------------+\n",
      "|age|       job|marital|education|default|balance|housing|loan|contact|day|month|duration|campaign|pdays|previous|poutcome|deposit|job_indexed|marital_indexed|education_indexed|default_indexed|housing_indexed|loan_indexed|contact_indexed|poutcome_indexed|job_indexed_encoded|marital_indexed_encoded|education_indexed_encoded|default_indexed_encoded|housing_indexed_encoded|loan_indexed_encoded|contact_indexed_encoded|poutcome_indexed_encoded|         rawFeatures|\n",
      "+---+----------+-------+---------+-------+-------+-------+----+-------+---+-----+--------+--------+-----+--------+--------+-------+-----------+---------------+-----------------+---------------+---------------+------------+---------------+----------------+-------------------+-----------------------+-------------------------+-----------------------+-----------------------+--------------------+-----------------------+------------------------+--------------------+\n",
      "| 59|    admin.|married|secondary|     no|   2343|    yes|  no|unknown|  5|  may|    1042|       1|   -1|       0| unknown|    yes|        3.0|            0.0|              0.0|            0.0|            1.0|         0.0|            1.0|             0.0|     (12,[3],[1.0])|          (3,[0],[1.0])|            (4,[0],[1.0])|          (2,[0],[1.0])|          (2,[1],[1.0])|       (2,[0],[1.0])|          (3,[1],[1.0])|           (4,[0],[1.0])|(32,[3,12,15,19,2...|\n",
      "| 56|    admin.|married|secondary|     no|     45|     no|  no|unknown|  5|  may|    1467|       1|   -1|       0| unknown|    yes|        3.0|            0.0|              0.0|            0.0|            0.0|         0.0|            1.0|             0.0|     (12,[3],[1.0])|          (3,[0],[1.0])|            (4,[0],[1.0])|          (2,[0],[1.0])|          (2,[0],[1.0])|       (2,[0],[1.0])|          (3,[1],[1.0])|           (4,[0],[1.0])|(32,[3,12,15,19,2...|\n",
      "| 41|technician|married|secondary|     no|   1270|    yes|  no|unknown|  5|  may|    1389|       1|   -1|       0| unknown|    yes|        2.0|            0.0|              0.0|            0.0|            1.0|         0.0|            1.0|             0.0|     (12,[2],[1.0])|          (3,[0],[1.0])|            (4,[0],[1.0])|          (2,[0],[1.0])|          (2,[1],[1.0])|       (2,[0],[1.0])|          (3,[1],[1.0])|           (4,[0],[1.0])|(32,[2,12,15,19,2...|\n",
      "| 55|  services|married|secondary|     no|   2476|    yes|  no|unknown|  5|  may|     579|       1|   -1|       0| unknown|    yes|        4.0|            0.0|              0.0|            0.0|            1.0|         0.0|            1.0|             0.0|     (12,[4],[1.0])|          (3,[0],[1.0])|            (4,[0],[1.0])|          (2,[0],[1.0])|          (2,[1],[1.0])|       (2,[0],[1.0])|          (3,[1],[1.0])|           (4,[0],[1.0])|(32,[4,12,15,19,2...|\n",
      "| 54|    admin.|married| tertiary|     no|    184|     no|  no|unknown|  5|  may|     673|       2|   -1|       0| unknown|    yes|        3.0|            0.0|              1.0|            0.0|            0.0|         0.0|            1.0|             0.0|     (12,[3],[1.0])|          (3,[0],[1.0])|            (4,[1],[1.0])|          (2,[0],[1.0])|          (2,[0],[1.0])|       (2,[0],[1.0])|          (3,[1],[1.0])|           (4,[0],[1.0])|(32,[3,12,16,19,2...|\n",
      "+---+----------+-------+---------+-------+-------+-------+----+-------+---+-----+--------+--------+-----+--------+--------+-------+-----------+---------------+-----------------+---------------+---------------+------------+---------------+----------------+-------------------+-----------------------+-------------------------+-----------------------+-----------------------+--------------------+-----------------------+------------------------+--------------------+\n",
      "only showing top 5 rows\n",
      "\n"
     ]
    }
   ],
   "source": [
    "catCols = ['job', 'marital', 'education', 'default','housing', 'loan', 'contact', 'poutcome']\n",
    "indexers = [\n",
    "    StringIndexer(inputCol=c, outputCol=\"{0}_indexed\".format(c))\n",
    "    for c in catCols\n",
    "]\n",
    "encoders = [OneHotEncoder(dropLast=False,inputCol=indexer.getOutputCol(),\n",
    "            outputCol=\"{0}_encoded\".format(indexer.getOutputCol())) \n",
    "    for indexer in indexers\n",
    "]\n",
    "assembler = VectorAssembler(inputCols=[encoder.getOutputCol() for encoder in encoders],outputCol=\"rawFeatures\")\n",
    "\n",
    "numericCols = ['age', 'balance', 'duration',  'campaign', 'pdays', 'previous']\n",
    "\n",
    "pipeline = Pipeline(stages=indexers + encoders+ [assembler])\n",
    "model=pipeline.fit(df)\n",
    "transformed = model.transform(df)\n",
    "transformed.show(5)"
   ]
  },
  {
   "cell_type": "code",
   "execution_count": 17,
   "metadata": {},
   "outputs": [],
   "source": [
    "(trainingData, testData) = transformed.randomSplit([0.7, 0.3],seed = 11)"
   ]
  },
  {
   "cell_type": "code",
   "execution_count": 18,
   "metadata": {},
   "outputs": [
    {
     "name": "stdout",
     "output_type": "stream",
     "text": [
      "+----------+------------+--------------------+\n",
      "|prediction|loan_indexed|         rawFeatures|\n",
      "+----------+------------+--------------------+\n",
      "|       0.0|         0.0|(32,[7,13,18,19,2...|\n",
      "|       0.0|         0.0|(32,[7,13,18,19,2...|\n",
      "|       0.0|         0.0|(32,[7,13,15,19,2...|\n",
      "|       0.0|         0.0|(32,[7,13,15,19,2...|\n",
      "|       0.0|         0.0|(32,[7,13,15,19,2...|\n",
      "|       0.0|         0.0|(32,[7,13,15,19,2...|\n",
      "|       0.0|         0.0|(32,[7,13,15,19,2...|\n",
      "|       0.0|         0.0|(32,[7,13,18,19,2...|\n",
      "|       1.0|         1.0|(32,[3,13,15,19,2...|\n",
      "|       0.0|         0.0|(32,[7,13,17,19,2...|\n",
      "|       0.0|         0.0|(32,[7,13,15,19,2...|\n",
      "|       0.0|         0.0|(32,[7,13,15,19,2...|\n",
      "|       0.0|         0.0|(32,[7,13,15,19,2...|\n",
      "|       0.0|         0.0|(32,[7,13,18,19,2...|\n",
      "|       0.0|         0.0|(32,[7,13,18,19,2...|\n",
      "|       0.0|         0.0|(32,[7,13,18,19,2...|\n",
      "|       1.0|         1.0|(32,[0,13,16,19,2...|\n",
      "|       0.0|         0.0|(32,[7,13,17,19,2...|\n",
      "|       0.0|         0.0|(32,[7,13,15,19,2...|\n",
      "|       0.0|         0.0|(32,[7,13,15,19,2...|\n",
      "+----------+------------+--------------------+\n",
      "only showing top 20 rows\n",
      "\n"
     ]
    }
   ],
   "source": [
    "from pyspark.ml.classification import LogisticRegression\n",
    "lr = LogisticRegression(labelCol=\"loan_indexed\", featuresCol=\"rawFeatures\")\n",
    "#Training algo\n",
    "lrModel = lr.fit(trainingData)\n",
    "lr_prediction = lrModel.transform(testData)\n",
    "lr_prediction.select(\"prediction\", \"loan_indexed\", \"rawFeatures\").show()\n",
    "evaluator = MulticlassClassificationEvaluator(labelCol=\"loan_indexed\", predictionCol=\"prediction\", metricName=\"accuracy\")"
   ]
  },
  {
   "cell_type": "code",
   "execution_count": 20,
   "metadata": {},
   "outputs": [
    {
     "name": "stdout",
     "output_type": "stream",
     "text": [
      "Accuracy of LogisticRegression is = 1\n",
      "Test Error of LogisticRegression = 0 \n"
     ]
    }
   ],
   "source": [
    "lr_accuracy = evaluator.evaluate(lr_prediction)\n",
    "print(\"Accuracy of LogisticRegression is = %g\"% (lr_accuracy))\n",
    "print(\"Test Error of LogisticRegression = %g \" % (1.0 - lr_accuracy))"
   ]
  }
 ],
 "metadata": {
  "kernelspec": {
   "display_name": "NLP",
   "language": "python",
   "name": "python3"
  },
  "language_info": {
   "codemirror_mode": {
    "name": "ipython",
    "version": 3
   },
   "file_extension": ".py",
   "mimetype": "text/x-python",
   "name": "python",
   "nbconvert_exporter": "python",
   "pygments_lexer": "ipython3",
   "version": "3.9.19"
  }
 },
 "nbformat": 4,
 "nbformat_minor": 2
}
